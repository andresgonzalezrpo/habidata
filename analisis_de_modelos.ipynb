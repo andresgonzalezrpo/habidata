{
 "cells": [
  {
   "cell_type": "code",
   "execution_count": 1,
   "id": "6efbb682",
   "metadata": {},
   "outputs": [
    {
     "name": "stdout",
     "output_type": "stream",
     "text": [
      "✅ Librerías importadas exitosamente\n",
      "✅ Configuración de visualización establecida\n"
     ]
    }
   ],
   "source": [
    "import pandas as pd\n",
    "import numpy as np\n",
    "import matplotlib.pyplot as plt\n",
    "import seaborn as sns\n",
    "import re\n",
    "import warnings\n",
    "\n",
    "# Configuración para optimizar visualización\n",
    "plt.style.use('default')\n",
    "sns.set_palette(\"husl\")\n",
    "warnings.filterwarnings('ignore')\n",
    "\n",
    "# Configuración de pandas para mejor visualización\n",
    "pd.set_option('display.max_columns', None)\n",
    "pd.set_option('display.width', 1000)\n",
    "pd.set_option('display.max_colwidth', 100)\n",
    "pd.set_option('display.max_rows', None)\n",
    "\n",
    "\n",
    "print(\"✅ Librerías importadas exitosamente\")\n",
    "print(\"✅ Configuración de visualización establecida\")"
   ]
  },
  {
   "cell_type": "code",
   "execution_count": 2,
   "id": "280eacef",
   "metadata": {},
   "outputs": [
    {
     "name": "stdout",
     "output_type": "stream",
     "text": [
      "🏠 DATASET CARGADO: Propiedades Inmobiliarias Colombia\n",
      "=======================================================\n",
      "📊 Dimensiones: (140435, 16)\n",
      "📋 Registros: 140,435\n",
      "📋 Variables: 16\n",
      "💾 Tamaño en memoria: 161.0 MB\n",
      "\n",
      "📋 PRIMERAS 3 FILAS:\n"
     ]
    },
    {
     "data": {
      "text/html": [
       "<div>\n",
       "<style scoped>\n",
       "    .dataframe tbody tr th:only-of-type {\n",
       "        vertical-align: middle;\n",
       "    }\n",
       "\n",
       "    .dataframe tbody tr th {\n",
       "        vertical-align: top;\n",
       "    }\n",
       "\n",
       "    .dataframe thead th {\n",
       "        text-align: right;\n",
       "    }\n",
       "</style>\n",
       "<table border=\"1\" class=\"dataframe\">\n",
       "  <thead>\n",
       "    <tr style=\"text-align: right;\">\n",
       "      <th></th>\n",
       "      <th>ad_type</th>\n",
       "      <th>start_date</th>\n",
       "      <th>end_date</th>\n",
       "      <th>created_on</th>\n",
       "      <th>lat</th>\n",
       "      <th>lon</th>\n",
       "      <th>price</th>\n",
       "      <th>title</th>\n",
       "      <th>description</th>\n",
       "      <th>property_type</th>\n",
       "      <th>operation_type</th>\n",
       "      <th>surface_total_final</th>\n",
       "      <th>bedrooms_final</th>\n",
       "      <th>bathrooms_final</th>\n",
       "      <th>l3_final</th>\n",
       "      <th>l4_final</th>\n",
       "    </tr>\n",
       "  </thead>\n",
       "  <tbody>\n",
       "    <tr>\n",
       "      <th>0</th>\n",
       "      <td>Propiedad</td>\n",
       "      <td>2020-10-07</td>\n",
       "      <td>2020-10-08</td>\n",
       "      <td>2020-10-07</td>\n",
       "      <td>NaN</td>\n",
       "      <td>NaN</td>\n",
       "      <td>4.000000e+09</td>\n",
       "      <td>Casa en Venta Ubicado en MEDELLIN</td>\n",
       "      <td>Codigo Inmueble 6348 La conocerás y no te querrás ir Cómoda casa con 7 habitaciones, 8 baños com...</td>\n",
       "      <td>Casa</td>\n",
       "      <td>Venta</td>\n",
       "      <td>NaN</td>\n",
       "      <td>7.0</td>\n",
       "      <td>8.0</td>\n",
       "      <td>Medellín</td>\n",
       "      <td>NaN</td>\n",
       "    </tr>\n",
       "    <tr>\n",
       "      <th>1</th>\n",
       "      <td>Propiedad</td>\n",
       "      <td>2020-10-07</td>\n",
       "      <td>9999-12-31</td>\n",
       "      <td>2020-10-07</td>\n",
       "      <td>6.151412</td>\n",
       "      <td>-75.379867</td>\n",
       "      <td>3.800000e+08</td>\n",
       "      <td>Venta de casa en Santa Clara 1 Rionegro</td>\n",
       "      <td>Rionegro\\nUbicación Santa Clara 1\\nLote 76, 5 metros\\nÁrea construcción 172 metros\\nBaños 3\\nPar...</td>\n",
       "      <td>Casa</td>\n",
       "      <td>Venta</td>\n",
       "      <td>NaN</td>\n",
       "      <td>4.0</td>\n",
       "      <td>3.0</td>\n",
       "      <td>Rionegro</td>\n",
       "      <td>NaN</td>\n",
       "    </tr>\n",
       "    <tr>\n",
       "      <th>2</th>\n",
       "      <td>Propiedad</td>\n",
       "      <td>2020-10-07</td>\n",
       "      <td>2021-01-19</td>\n",
       "      <td>2020-10-07</td>\n",
       "      <td>6.129877</td>\n",
       "      <td>-75.377835</td>\n",
       "      <td>3.900000e+08</td>\n",
       "      <td>VENTA CASA INDEPENDIENTE EN RIONEGRO ANTIOQUIA</td>\n",
       "      <td>4 alcobas, 3 baños, estudio, cocina integral,  sala comedor, patio , garaje cubierto \\n\\nUbicada...</td>\n",
       "      <td>Casa</td>\n",
       "      <td>Venta</td>\n",
       "      <td>NaN</td>\n",
       "      <td>4.0</td>\n",
       "      <td>3.0</td>\n",
       "      <td>Rionegro</td>\n",
       "      <td>NaN</td>\n",
       "    </tr>\n",
       "  </tbody>\n",
       "</table>\n",
       "</div>"
      ],
      "text/plain": [
       "     ad_type  start_date    end_date  created_on       lat        lon         price                                           title                                                                                          description property_type operation_type  surface_total_final  bedrooms_final  bathrooms_final  l3_final l4_final\n",
       "0  Propiedad  2020-10-07  2020-10-08  2020-10-07       NaN        NaN  4.000000e+09               Casa en Venta Ubicado en MEDELLIN  Codigo Inmueble 6348 La conocerás y no te querrás ir Cómoda casa con 7 habitaciones, 8 baños com...          Casa          Venta                  NaN             7.0              8.0  Medellín      NaN\n",
       "1  Propiedad  2020-10-07  9999-12-31  2020-10-07  6.151412 -75.379867  3.800000e+08        Venta de casa en Santa Clara 1 Rionegro   Rionegro\\nUbicación Santa Clara 1\\nLote 76, 5 metros\\nÁrea construcción 172 metros\\nBaños 3\\nPar...          Casa          Venta                  NaN             4.0              3.0  Rionegro      NaN\n",
       "2  Propiedad  2020-10-07  2021-01-19  2020-10-07  6.129877 -75.377835  3.900000e+08  VENTA CASA INDEPENDIENTE EN RIONEGRO ANTIOQUIA  4 alcobas, 3 baños, estudio, cocina integral,  sala comedor, patio , garaje cubierto \\n\\nUbicada...          Casa          Venta                  NaN             4.0              3.0  Rionegro      NaN"
      ]
     },
     "execution_count": 2,
     "metadata": {},
     "output_type": "execute_result"
    }
   ],
   "source": [
    "# ===============================================================\n",
    "# CARGA DEL DATASET INICIAL\n",
    "# ===============================================================\n",
    "\n",
    "# Ruta al archivo CSV con datos de propiedades colombianas\n",
    "csv_path = \"data/properties_gold.csv\"\n",
    "\n",
    "# Cargar dataset completo\n",
    "df = pd.read_csv(csv_path)\n",
    "\n",
    "# Información básica del dataset\n",
    "print(\"🏠 DATASET CARGADO: Propiedades Inmobiliarias Colombia\")\n",
    "print(\"=\" * 55)\n",
    "print(f\"📊 Dimensiones: {df.shape}\")\n",
    "print(f\"📋 Registros: {df.shape[0]:,}\")\n",
    "print(f\"📋 Variables: {df.shape[1]}\")\n",
    "print(f\"💾 Tamaño en memoria: {df.memory_usage(deep=True).sum() / 1024**2:.1f} MB\")\n",
    "\n",
    "# Vista previa de primeras filas\n",
    "print(f\"\\n📋 PRIMERAS 3 FILAS:\")\n",
    "df.head(3)"
   ]
  },
  {
   "cell_type": "markdown",
   "id": "6fd9e1d3",
   "metadata": {},
   "source": [
    "## Revisemos el rango de años de los datos"
   ]
  },
  {
   "cell_type": "code",
   "execution_count": 3,
   "id": "7f159a39",
   "metadata": {},
   "outputs": [
    {
     "name": "stdout",
     "output_type": "stream",
     "text": [
      "Year range: 2020 - 2021\n"
     ]
    }
   ],
   "source": [
    "# Replace 'date_column' with your actual column name\n",
    "df['created_on'] = pd.to_datetime(df['created_on'], errors='coerce')\n",
    "years = df['created_on'].dt.year\n",
    "\n",
    "min_year = years.min()\n",
    "max_year = years.max()\n",
    "\n",
    "print(f\"Year range: {min_year} - {max_year}\")\n"
   ]
  },
  {
   "cell_type": "code",
   "execution_count": 4,
   "id": "3b1a112c",
   "metadata": {},
   "outputs": [
    {
     "name": "stdout",
     "output_type": "stream",
     "text": [
      "                                                                                               version\n",
      "0  PostgreSQL 14.19 (Ubuntu 14.19-0ubuntu0.22.04.1) on x86_64-pc-linux-gnu, compiled by gcc (Ubuntu...\n"
     ]
    }
   ],
   "source": [
    "from sqlalchemy import create_engine\n",
    "\n",
    "# Connection details\n",
    "user = \"andres\"\n",
    "password = \"Pass123\"\n",
    "host = \"127.0.0.1\"\n",
    "port = \"5433\"\n",
    "database = \"testdb\"\n",
    "\n",
    "# Create SQLAlchemy engine\n",
    "engine = create_engine(f\"postgresql+psycopg2://{user}:{password}@{host}:{port}/{database}\")\n",
    "\n",
    "# Test the connection by running a simple query\n",
    "test_con = pd.read_sql(\"SELECT version();\", engine)\n",
    "print(test_con)"
   ]
  },
  {
   "cell_type": "code",
   "execution_count": 5,
   "id": "7697f6a7",
   "metadata": {},
   "outputs": [
    {
     "data": {
      "text/plain": [
       "435"
      ]
     },
     "execution_count": 5,
     "metadata": {},
     "output_type": "execute_result"
    }
   ],
   "source": [
    "# Save DataFrame to SQL table named 'my_table'\n",
    "df.to_sql('properties', engine, if_exists='replace', index=False)"
   ]
  },
  {
   "cell_type": "code",
   "execution_count": 6,
   "id": "0e732f15",
   "metadata": {},
   "outputs": [
    {
     "name": "stdout",
     "output_type": "stream",
     "text": [
      "     ad_type  start_date    end_date created_on       lat        lon        price                                                                                     title                                                                                          description property_type operation_type  surface_total_final  bedrooms_final  bathrooms_final  l3_final         l4_final\n",
      "0  Propiedad  2020-10-07  2021-05-01 2020-10-07  6.297802 -75.577835  310000000.0                                                               Venta de casa en Florencia   Venta de Casa en Florencia Medellin\\n\\nLa casa tiene 5 habitaciones\\n2 Baños uno con bañera \\nBi...          Casa          Venta                192.0             5.0              2.0  Medellín  Doce de Octubre\n",
      "1  Propiedad  2020-10-07  2021-01-05 2020-10-07  5.871480 -75.561657  190000000.0                                     Vendo Casa en Santa Bárbara sector Alto de las Guacas  Vendo Casa para habitación, Descanso o Construcción, área de 150m2\\nFrente de 7.45mts y fondo de...          Casa          Venta                150.0             1.0              1.0  Medellín             None\n",
      "2  Propiedad  2020-10-07  2020-12-08 2020-10-07  6.485702 -75.393831  350000000.0            Te vendo esta casa de primer piso con sótano y dos apartamentos en Don Matías.  Amig@, educador@, familia.\\nVendo casa de primer piso para hacer edificio en Don Matías. \\nTe ve...          Casa          Venta                130.0             NaN              1.0  Medellín             None\n",
      "3  Propiedad  2020-10-07  2020-10-08 2020-10-07       NaN        NaN  750000000.0                                                         Casa en Venta Ubicado en MEDELLIN  Codigo Inmueble 4120 CASA CON 5 ALCOBAS, SALA COMEDOR, GARAJE, HALL, COCINA SENCILLA, 6 BAÑOS, Z...          Casa          Venta                192.0             5.0              6.0  Medellín             None\n",
      "4  Propiedad  2020-10-07  2020-10-30 2020-10-07  6.307757 -75.560560  172000000.0  Vendo casa en las Brisas 3er piso remodelada parqueo moto en antejardin a bordo de calle  Barrio las Brisas Medellín Antioquia\\nCasa tercer piso\\n72 m2 aproximadamente\\n3 alcobas con clo...          Casa          Venta                 72.0             3.0              1.0  Medellín         Castilla\n"
     ]
    }
   ],
   "source": [
    "# Query all rows from the 'properties' table\n",
    "result = pd.read_sql(\"SELECT * FROM properties WHERE surface_total_final is not null and \" \\\n",
    "\"l3_final = 'Medellín'\", engine)\n",
    "\n",
    "# Show the first rows\n",
    "print(result.head())"
   ]
  },
  {
   "cell_type": "code",
   "execution_count": 7,
   "id": "973f493e",
   "metadata": {},
   "outputs": [
    {
     "name": "stdout",
     "output_type": "stream",
     "text": [
      "                       barrio\n",
      "0                   Abejorral\n",
      "1                  Alejandría\n",
      "2                      Amalfi\n",
      "3                       Andes\n",
      "4                    Apartadó\n",
      "5                     Barbosa\n",
      "6                       Bello\n",
      "7                     Betania\n",
      "8                      Caldas\n",
      "9                      Carepa\n",
      "10                   Caucasia\n",
      "11                  Chigorodó\n",
      "12             Ciudad Bolívar\n",
      "13                    Cocorná\n",
      "14                 Concepción\n",
      "15                  Concordia\n",
      "16                 Copacabana\n",
      "17                    Ebéjico\n",
      "18       El Carmen de Viboral\n",
      "19                   Envigado\n",
      "20                   Fredonia\n",
      "21                    Giraldo\n",
      "22                  Girardota\n",
      "23                     Guarne\n",
      "24                    Guatapé\n",
      "25                   Hispania\n",
      "26                     Itagui\n",
      "27                     Jardín\n",
      "28                     Jericó\n",
      "29                    La Ceja\n",
      "30                La Estrella\n",
      "31                 La Pintada\n",
      "32                   La Unión\n",
      "33                  Marinilla\n",
      "34                   Medellín\n",
      "35                    Necoclí\n",
      "36                      Olaya\n",
      "37                      Peñol\n",
      "38             Puerto Triunfo\n",
      "39                   Remedios\n",
      "40                     Retiro\n",
      "41                   Rionegro\n",
      "42                   Sabaneta\n",
      "43              San Francisco\n",
      "44               San Jerónimo\n",
      "45  San Pedro de los Milagros\n",
      "46                 San Rafael\n",
      "47                  San Roque\n",
      "48                San Vicente\n",
      "49       Santafé de Antioquia\n",
      "50                    Segovia\n",
      "51                   Sopetrán\n",
      "52                   Titiribí\n",
      "53                      Turbo\n",
      "54                      Urrao\n",
      "55                    Venecia\n",
      "56                    Yarumal\n",
      "57                       None\n"
     ]
    }
   ],
   "source": [
    "# Query all rows from the 'properties' table\n",
    "result = pd.read_sql(\"SELECT DISTINCT (l3_final) as barrio from properties ORDER BY barrio\", engine)\n",
    "\n",
    "\n",
    "print(result)"
   ]
  },
  {
   "cell_type": "code",
   "execution_count": 8,
   "id": "b6cc9739",
   "metadata": {},
   "outputs": [
    {
     "name": "stdout",
     "output_type": "stream",
     "text": [
      "                l4_final  count\n",
      "0             El Poblado   4082\n",
      "1               Laureles   3072\n",
      "2                  Belén   2807\n",
      "3             La América   1398\n",
      "4                Robledo   1242\n",
      "5                Cabañas    870\n",
      "6             Candelaria    720\n",
      "7            La Estación    638\n",
      "8           Buenos Aires    561\n",
      "9                 Niquía    451\n",
      "10              Castilla    450\n",
      "11               Mayorca    353\n",
      "12           La Frontera    312\n",
      "13         San Cristóbal    308\n",
      "14              Guayabal    285\n",
      "15             Altavista    266\n",
      "16            San Javier    242\n",
      "17              Ditaires    228\n",
      "18              Aranjuez    221\n",
      "19            Las Palmas    199\n",
      "20            La Doctora    189\n",
      "21              Jardines    187\n",
      "22    Loma de Los Bernal    179\n",
      "23       Doce de Octubre    174\n",
      "24           Santa María    171\n",
      "25         Villa Hermosa    158\n",
      "26           Los Colores    144\n",
      "27           Santa Elena    137\n",
      "28  San Antonio de Prado    127\n",
      "29              Manrique    123\n",
      "30               Estadio    103\n",
      "31                 Prado     89\n",
      "32            La Tablaza     89\n",
      "33             El Dorado     76\n",
      "34           El Porvenir     65\n",
      "35             Castropol     52\n",
      "36            Santa Cruz     46\n",
      "37              Calasanz     43\n",
      "38               Machado     40\n",
      "39             El Salado     37\n",
      "40             Calatrava     31\n",
      "41               Holanda     29\n",
      "42           San Joaquín     26\n",
      "43               Popular     24\n",
      "44           San Gabriel     19\n",
      "45             Primavera     18\n",
      "46            Cristo Rey     15\n",
      "47             San Pedro     14\n",
      "48           La Floresta     10\n",
      "49            San Andrés      8\n",
      "50                Manila      7\n",
      "51            Fontidueño      6\n",
      "52                 París      5\n",
      "53              Pedregal      5\n",
      "54           La Pilarica      4\n",
      "55            Bellavista      4\n",
      "56                Fátima      4\n",
      "57          La Milagrosa      4\n",
      "58           Santa Lucía      3\n",
      "59              Palmitas      2\n",
      "60             Los Lagos      2\n",
      "61             Los Alpes      2\n",
      "62         Alfonso López      2\n",
      "63       La Misericordia      2\n",
      "64               Kennedy      2\n",
      "65            Campo Amor      2\n",
      "66            El Pedrero      2\n",
      "67              Trinidad      2\n",
      "68         Tricentenario      1\n",
      "69            San Benito      1\n",
      "70         La Candelaria      1\n",
      "71             Versalles      1\n"
     ]
    }
   ],
   "source": [
    "query = \"\"\"\n",
    "SELECT l4_final, COUNT(*) as count\n",
    "FROM properties\n",
    "WHERE created_on IS NOT NULL\n",
    "  AND price IS NOT NULL\n",
    "  AND surface_total_final IS NOT NULL\n",
    "  AND bedrooms_final IS NOT NULL\n",
    "  AND bathrooms_final IS NOT NULL\n",
    "  AND l3_final IS NOT NULL\n",
    "  AND l4_final IS NOT NULL\n",
    "GROUP BY l4_final\n",
    "ORDER BY count DESC\n",
    "\"\"\"\n",
    "result = pd.read_sql(query, engine)\n",
    "print(result)"
   ]
  },
  {
   "cell_type": "code",
   "execution_count": 9,
   "id": "b425d898",
   "metadata": {},
   "outputs": [
    {
     "name": "stdout",
     "output_type": "stream",
     "text": [
      "   count\n",
      "0  21192\n"
     ]
    }
   ],
   "source": [
    "query = \"\"\"\n",
    "SELECT COUNT(*) as count\n",
    "FROM properties\n",
    "WHERE created_on IS NOT NULL\n",
    "  AND price IS NOT NULL\n",
    "  AND surface_total_final IS NOT NULL\n",
    "  AND bedrooms_final IS NOT NULL\n",
    "  AND bathrooms_final IS NOT NULL\n",
    "  AND l3_final IS NOT NULL\n",
    "  AND l4_final IS NOT NULL\n",
    "\n",
    "\"\"\"\n",
    "result = pd.read_sql(query, engine)\n",
    "print(result)"
   ]
  },
  {
   "cell_type": "code",
   "execution_count": 10,
   "id": "55c2cf6f",
   "metadata": {},
   "outputs": [
    {
     "name": "stdout",
     "output_type": "stream",
     "text": [
      "     ad_type  start_date    end_date created_on       lat        lon        price                                                title                                                                                          description property_type operation_type  surface_total_final  bedrooms_final  bathrooms_final  l3_final    l4_final\n",
      "0  Propiedad  2020-10-07  2020-10-09 2020-10-07  6.204000 -75.576000  500000000.0  Casa En Venta En Medellin El Poblado Cod. VRAS-3064  Apartamento en venta en el poblado cerca de la Cnica las Vegas, en un sector muy residencial y t...          Casa          Venta                147.0             3.0              3.0  Medellín  El Poblado\n",
      "1  Propiedad  2020-10-07  9999-12-31 2020-10-07  6.151414 -75.611236  280000000.0                VENTA APARTAMENTO SABANETA EL CARMELO  Venta de espectacular Apartamento en Sabaneta el Carmelo, 65 mts2, cocina integral, sala comedor...   Apartamento          Venta                 65.0             3.0              2.0  Sabaneta  El Poblado\n",
      "2  Propiedad  2020-10-07  2020-11-14 2020-10-07  6.206817 -75.575166  510000000.0         Venta de apartamento Patio Bonito - Medellín  Apartamento de 200m2 para la Venta en Patio Bonito, cuenta con cuatro alcobas, la principal con ...   Apartamento          Venta                200.0             4.0              NaN  Medellín  El Poblado\n",
      "3  Propiedad  2020-10-07  2021-01-13 2020-10-07  6.205942 -75.574003  530000000.0            Penthouse duplex en venta en Patio Bonito  En Venta espectacular Penthouse duplex en Patio Bonito\\n\\n \\n\\nCon una ubicación inigualable, ce...   Apartamento          Venta                200.0             4.0              2.0  Medellín  El Poblado\n",
      "4  Propiedad  2020-10-07  2021-04-12 2020-10-07  6.218383 -75.575561  460000000.0            Apartamento en Venta   Calasanz, Medellín  Área 100 m2, 3 alcobas, 2 baños, sala comedor, cocina integral, zona deropas, 2 balcones, parqua...   Apartamento          Venta                100.0             3.0              2.0  Medellín  El Poblado\n"
     ]
    }
   ],
   "source": [
    "query = \"\"\"\n",
    "SELECT * FROM properties WHERE surface_total_final is not null\n",
    "and l4_final = 'El Poblado'\n",
    "\"\"\"\n",
    "\n",
    "result = pd.read_sql(query, engine)\n",
    "print(result.head(5))"
   ]
  },
  {
   "cell_type": "code",
   "execution_count": 11,
   "id": "8bd6cfb1",
   "metadata": {},
   "outputs": [
    {
     "name": "stdout",
     "output_type": "stream",
     "text": [
      "     ad_type  start_date    end_date created_on       lat        lon         price                                  title                                                                                          description property_type operation_type  surface_total_final  bedrooms_final  bathrooms_final  l3_final    l4_final\n",
      "0  Propiedad  2021-02-24  2021-04-15 2021-02-24  6.243123 -75.611478  4.650000e+11  Venta de casa Simón Bolívar ,Medellin  Se vende casa en Simón Bolivar , espacios amplios y ventilados ,excelente ubicacion y amplias ru...          Casa          Venta                168.0             4.0              2.0  Medellín  La América\n"
     ]
    }
   ],
   "source": [
    "query = \"\"\"\n",
    "SELECT * FROM properties WHERE price = 4.650000e+11\n",
    "\n",
    "\"\"\"\n",
    "\n",
    "result = pd.read_sql(query, engine)\n",
    "print(result.head(5))\n",
    "\n"
   ]
  },
  {
   "cell_type": "code",
   "execution_count": 1,
   "id": "8b258b11",
   "metadata": {},
   "outputs": [
    {
     "name": "stdout",
     "output_type": "stream",
     "text": [
      "ratio_20 1.6216622636286273\n",
      "ratio_21 1.566823624200078\n",
      "1.034999880383184\n"
     ]
    }
   ],
   "source": [
    "SMLV_2020 = 877803\n",
    "SMLV_2021 = 908526\n",
    "SMLV_2025 = 1423500\n",
    "\n",
    "ratio_20 = (SMLV_2025/SMLV_2020)\n",
    "ratio_21 = (SMLV_2025/SMLV_2021)\n",
    "print(\"ratio_20\", ratio_20)\n",
    "print(\"ratio_21\", ratio_21)\n",
    "\n",
    "ratio= SMLV_2021/SMLV_2020\n",
    "print (ratio)\n",
    "#print(500000000 * ratio_20)\n",
    "\n"
   ]
  },
  {
   "cell_type": "code",
   "execution_count": 13,
   "id": "354ab1ba",
   "metadata": {},
   "outputs": [
    {
     "data": {
      "text/html": [
       "<div>\n",
       "<style scoped>\n",
       "    .dataframe tbody tr th:only-of-type {\n",
       "        vertical-align: middle;\n",
       "    }\n",
       "\n",
       "    .dataframe tbody tr th {\n",
       "        vertical-align: top;\n",
       "    }\n",
       "\n",
       "    .dataframe thead th {\n",
       "        text-align: right;\n",
       "    }\n",
       "</style>\n",
       "<table border=\"1\" class=\"dataframe\">\n",
       "  <thead>\n",
       "    <tr style=\"text-align: right;\">\n",
       "      <th></th>\n",
       "      <th>created_on</th>\n",
       "      <th>lat</th>\n",
       "      <th>lon</th>\n",
       "      <th>price</th>\n",
       "      <th>surface_total_final</th>\n",
       "      <th>bedrooms_final</th>\n",
       "      <th>bathrooms_final</th>\n",
       "      <th>l3_final</th>\n",
       "      <th>l4_final</th>\n",
       "    </tr>\n",
       "  </thead>\n",
       "  <tbody>\n",
       "    <tr>\n",
       "      <th>0</th>\n",
       "      <td>2020-10-07</td>\n",
       "      <td>NaN</td>\n",
       "      <td>NaN</td>\n",
       "      <td>4.000000e+09</td>\n",
       "      <td>NaN</td>\n",
       "      <td>7.0</td>\n",
       "      <td>8.0</td>\n",
       "      <td>Medellín</td>\n",
       "      <td>NaN</td>\n",
       "    </tr>\n",
       "    <tr>\n",
       "      <th>1</th>\n",
       "      <td>2020-10-07</td>\n",
       "      <td>6.151412</td>\n",
       "      <td>-75.379867</td>\n",
       "      <td>3.800000e+08</td>\n",
       "      <td>NaN</td>\n",
       "      <td>4.0</td>\n",
       "      <td>3.0</td>\n",
       "      <td>Rionegro</td>\n",
       "      <td>NaN</td>\n",
       "    </tr>\n",
       "  </tbody>\n",
       "</table>\n",
       "</div>"
      ],
      "text/plain": [
       "  created_on       lat        lon         price  surface_total_final  bedrooms_final  bathrooms_final  l3_final l4_final\n",
       "0 2020-10-07       NaN        NaN  4.000000e+09                  NaN             7.0              8.0  Medellín      NaN\n",
       "1 2020-10-07  6.151412 -75.379867  3.800000e+08                  NaN             4.0              3.0  Rionegro      NaN"
      ]
     },
     "execution_count": 13,
     "metadata": {},
     "output_type": "execute_result"
    }
   ],
   "source": [
    "df[['created_on', 'lat', 'lon','price','surface_total_final', 'bedrooms_final', 'bathrooms_final', 'l3_final', 'l4_final']].head(2)"
   ]
  }
 ],
 "metadata": {
  "kernelspec": {
   "display_name": "venv-project",
   "language": "python",
   "name": "python3"
  },
  "language_info": {
   "codemirror_mode": {
    "name": "ipython",
    "version": 3
   },
   "file_extension": ".py",
   "mimetype": "text/x-python",
   "name": "python",
   "nbconvert_exporter": "python",
   "pygments_lexer": "ipython3",
   "version": "3.10.12"
  }
 },
 "nbformat": 4,
 "nbformat_minor": 5
}
